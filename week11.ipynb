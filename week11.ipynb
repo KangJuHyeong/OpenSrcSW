{
 "cells": [
  {
   "cell_type": "code",
   "execution_count": 9,
   "id": "9d906373",
   "metadata": {},
   "outputs": [
    {
     "name": "stdout",
     "output_type": "stream",
     "text": [
      "-F C:\\USERS\\HJK79\\APPDATA\\ROAMING\\JUPYTER\\RUNTIME\\KERNEL-73011698-A077-4F83-910E-96274E085357.JSON\n"
     ]
    }
   ],
   "source": [
    "import sys\n",
    "\n",
    "str_list=[]\n",
    "for arg in sys.argv[1:]:\n",
    "    str_list.append(arg.upper())\n",
    "print(\" \".join(str_list))"
   ]
  },
  {
   "cell_type": "code",
   "execution_count": 1,
   "id": "7d738cea",
   "metadata": {},
   "outputs": [
    {
     "ename": "FileNotFoundError",
     "evalue": "[Errno 2] No such file or directory: '-f'",
     "output_type": "error",
     "traceback": [
      "\u001b[1;31m---------------------------------------------------------------------------\u001b[0m",
      "\u001b[1;31mFileNotFoundError\u001b[0m                         Traceback (most recent call last)",
      "Input \u001b[1;32mIn [1]\u001b[0m, in \u001b[0;36m<cell line: 12>\u001b[1;34m()\u001b[0m\n\u001b[0;32m      9\u001b[0m in_name\u001b[38;5;241m=\u001b[39msys\u001b[38;5;241m.\u001b[39margv[\u001b[38;5;241m1\u001b[39m]\n\u001b[0;32m     10\u001b[0m out_name\u001b[38;5;241m=\u001b[39msys\u001b[38;5;241m.\u001b[39margv[\u001b[38;5;241m2\u001b[39m]\n\u001b[1;32m---> 12\u001b[0m in_f\u001b[38;5;241m=\u001b[39m\u001b[38;5;28;43mopen\u001b[39;49m\u001b[43m(\u001b[49m\u001b[43min_name\u001b[49m\u001b[43m,\u001b[49m\u001b[38;5;124;43m\"\u001b[39;49m\u001b[38;5;124;43mrb\u001b[39;49m\u001b[38;5;124;43m\"\u001b[39;49m\u001b[43m)\u001b[49m\n\u001b[0;32m     13\u001b[0m out_f\u001b[38;5;241m=\u001b[39m\u001b[38;5;28mopen\u001b[39m(out_name,\u001b[38;5;124m\"\u001b[39m\u001b[38;5;124mwb\u001b[39m\u001b[38;5;124m\"\u001b[39m)\n\u001b[0;32m     15\u001b[0m data\u001b[38;5;241m=\u001b[39min_f\u001b[38;5;241m.\u001b[39mread()\n",
      "\u001b[1;31mFileNotFoundError\u001b[0m: [Errno 2] No such file or directory: '-f'"
     ]
    }
   ],
   "source": [
    "import sys\n",
    "\n",
    "arg_num=len(sys.argv)\n",
    "\n",
    "if arg_num!=3 :\n",
    "    print(\"Usage: python cp.py file1 file2\")\n",
    "    sys.exit()\n",
    "\n",
    "in_name=sys.argv[1]\n",
    "out_name=sys.argv[2]\n",
    "\n",
    "in_f=open(in_name,\"rb\")\n",
    "out_f=open(out_name,\"wb\")\n",
    "\n",
    "data=in_f.read()\n",
    "out_f.write(data)\n",
    "\n",
    "in_f.close()\n",
    "out_f.close()\n"
   ]
  },
  {
   "cell_type": "code",
   "execution_count": 11,
   "id": "a4bf0596",
   "metadata": {},
   "outputs": [
    {
     "name": "stdout",
     "output_type": "stream",
     "text": [
      "파이썬 2\n",
      "파일 2\n",
      "읽기 2\n",
      "예제입니다. 2\n",
      "다양한 1\n",
      "메소드를 1\n",
      "공부해 1\n",
      "보세요 1\n",
      "실력이 1\n",
      "팍팍 1\n",
      "늘 1\n",
      "거예요~ 1\n",
      "단어 1\n",
      "수를 1\n",
      "카운트하는 1\n",
      "실습 1\n"
     ]
    }
   ],
   "source": [
    "f=open('README.txt','r',encoding='UTF-8')\n",
    "lines=f.readlines()\n",
    "dics={}\n",
    "for l in lines:\n",
    "    list=l.split()\n",
    "    for a in list:\n",
    "        if a in dics:\n",
    "            dics[a]+=1\n",
    "        else:\n",
    "            dics[a]=+1\n",
    "            \n",
    "for a in dics:\n",
    "    print(a,dics[a])\n",
    "            \n",
    "f.close()\n"
   ]
  },
  {
   "cell_type": "code",
   "execution_count": 2,
   "id": "be3f0f5c",
   "metadata": {},
   "outputs": [
    {
     "name": "stdout",
     "output_type": "stream",
     "text": [
      "1,2\n",
      "3,4\n",
      "p1좌표:\n",
      "2,3\n",
      "p2좌표:\n",
      "4,5\n"
     ]
    }
   ],
   "source": [
    "class Point:\n",
    "\n",
    "    def __init__(self,x=0,y=0):\n",
    "        self.x=x\n",
    "        self.y=y\n",
    "    def move(self,dx,dy):\n",
    "        self.x+=dx\n",
    "        self.y+=dy\n",
    "    def show(self):\n",
    "        print(\"{0:d},{1:d}\".format(self.x,self.y))\n",
    "class Box(Point):\n",
    "\n",
    "    def __init__(self,p1=Point(1,1),p2=Point(2,2)):\n",
    "        self.p1=p1\n",
    "        self.p2=p2\n",
    "    def move(self,dx,dy):\n",
    "        self.p1.move(dx,dy)\n",
    "        self.p2.move(dx,dy)\n",
    "    def show(self):\n",
    "        print(\"p1좌표:\")\n",
    "        self.p1.show()\n",
    "        print(\"p2좌표:\")\n",
    "        self.p2.show()\n",
    "\n",
    "p1=Point(1,2)\n",
    "p1.show()\n",
    "p2=Point(3,4)\n",
    "p2.show()\n",
    "b=Box(p1,p2)\n",
    "b.move(1,1)\n",
    "b.show()"
   ]
  },
  {
   "cell_type": "code",
   "execution_count": null,
   "id": "ce529576",
   "metadata": {},
   "outputs": [],
   "source": []
  }
 ],
 "metadata": {
  "kernelspec": {
   "display_name": "Python 3 (ipykernel)",
   "language": "python",
   "name": "python3"
  },
  "language_info": {
   "codemirror_mode": {
    "name": "ipython",
    "version": 3
   },
   "file_extension": ".py",
   "mimetype": "text/x-python",
   "name": "python",
   "nbconvert_exporter": "python",
   "pygments_lexer": "ipython3",
   "version": "3.10.4"
  }
 },
 "nbformat": 4,
 "nbformat_minor": 5
}
