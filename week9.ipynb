{
 "cells": [
  {
   "cell_type": "code",
   "execution_count": 1,
   "id": "836a744f",
   "metadata": {},
   "outputs": [
    {
     "data": {
      "text/plain": [
       "(78.5, 31.400000000000002)"
      ]
     },
     "execution_count": 1,
     "metadata": {},
     "output_type": "execute_result"
    }
   ],
   "source": [
    "r=5\n",
    "area=3.14*r*r\n",
    "circum=2.0*3.14*r\n",
    "area, circum"
   ]
  },
  {
   "cell_type": "code",
   "execution_count": 1,
   "id": "020b9150",
   "metadata": {},
   "outputs": [
    {
     "data": {
      "text/plain": [
       "((3+4j), True)"
      ]
     },
     "execution_count": 1,
     "metadata": {},
     "output_type": "execute_result"
    }
   ],
   "source": [
    "a=1+3j\n",
    "b=2+1j\n",
    "c=a+b\n",
    "d=(c==3+4j)\n",
    "c, d"
   ]
  },
  {
   "cell_type": "code",
   "execution_count": 1,
   "id": "5498b0cc",
   "metadata": {},
   "outputs": [
    {
     "name": "stdout",
     "output_type": "stream",
     "text": [
      "[5, 4, 3, 2, 1] ['ghi', 'def', 'abc']\n"
     ]
    }
   ],
   "source": [
    "nums=[1,2,3,4,5]\n",
    "strs=['abc','def','ghi']\n",
    "print(nums[::-1],strs[::-1])"
   ]
  },
  {
   "cell_type": "code",
   "execution_count": 1,
   "id": "2f57cc63",
   "metadata": {},
   "outputs": [
    {
     "data": {
      "text/plain": [
       "(7, 36)"
      ]
     },
     "execution_count": 1,
     "metadata": {},
     "output_type": "execute_result"
    }
   ],
   "source": [
    "time=456\n",
    "h=456/60\n",
    "m=456%60\n",
    "int(h),m"
   ]
  },
  {
   "cell_type": "code",
   "execution_count": 1,
   "id": "97fff41b",
   "metadata": {},
   "outputs": [
    {
     "name": "stdout",
     "output_type": "stream",
     "text": [
      "['김철수', '이영희', '임꺽정', '홍길동']\n",
      "김철수 2.8\n"
     ]
    }
   ],
   "source": [
    "s={\"홍길동\":3.4,\"임꺽정\":4.0,\"김철수\":2.8,\"이영희\":3.9}\n",
    "d=s.keys()\n",
    "a=list(d)\n",
    "a.sort()\n",
    "print(a)\n",
    "\n",
    "key=a[0]\n",
    "value=s[key]\n",
    "print(key,value)"
   ]
  },
  {
   "cell_type": "code",
   "execution_count": null,
   "id": "f6b42faa",
   "metadata": {},
   "outputs": [],
   "source": []
  },
  {
   "cell_type": "code",
   "execution_count": null,
   "id": "d8b5bd51",
   "metadata": {},
   "outputs": [],
   "source": []
  }
 ],
 "metadata": {
  "kernelspec": {
   "display_name": "Python 3 (ipykernel)",
   "language": "python",
   "name": "python3"
  },
  "language_info": {
   "codemirror_mode": {
    "name": "ipython",
    "version": 3
   },
   "file_extension": ".py",
   "mimetype": "text/x-python",
   "name": "python",
   "nbconvert_exporter": "python",
   "pygments_lexer": "ipython3",
   "version": "3.10.4"
  }
 },
 "nbformat": 4,
 "nbformat_minor": 5
}
