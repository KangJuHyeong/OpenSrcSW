{
 "cells": [
  {
   "cell_type": "code",
   "execution_count": 3,
   "id": "f489182e",
   "metadata": {},
   "outputs": [
    {
     "name": "stdout",
     "output_type": "stream",
     "text": [
      "x=2.1\n",
      "y=26.73\n",
      "\n"
     ]
    }
   ],
   "source": [
    "x=float(input(\"x=\"))\n",
    "y=3.0*x*x+5.0*x+3.0\n",
    "print(\"y={0:.2f}\\n\".format(y))"
   ]
  },
  {
   "cell_type": "code",
   "execution_count": 6,
   "id": "1c353e7b",
   "metadata": {},
   "outputs": [
    {
     "name": "stdout",
     "output_type": "stream",
     "text": [
      "r=1\n",
      "반지름 1.0인 원의 넓이는 3.1 이고 둘레는 6.3입니다.\n"
     ]
    }
   ],
   "source": [
    "r=float(input(\"r=\"))\n",
    "pi=3.14\n",
    "a=r*r*pi\n",
    "c=2.0*r*pi\n",
    "str=\"반지름 {0:.1f}인 원의 넓이는 {1:.1f} 이고 둘레는 {2:.1f}입니다.\".format(r,a,c)\n",
    "print(str)"
   ]
  },
  {
   "cell_type": "code",
   "execution_count": 1,
   "id": "a150d0fc",
   "metadata": {},
   "outputs": [
    {
     "name": "stdout",
     "output_type": "stream",
     "text": [
      "r=1\n",
      "반지름1.0인 원의 넓이는 3.1 이고 둘레는 6.3입니다.\n"
     ]
    }
   ],
   "source": [
    "r=float(input(\"r=\"))\n",
    "pi=3.14\n",
    "a=r*r*pi\n",
    "c=2.0*r*pi\n",
    "print(\"반지름{0:.1f}인 원의 넓이는 {1:.1f} 이고 둘레는 {2:.1f}입니다.\".format(r,a,c))\n"
   ]
  },
  {
   "cell_type": "code",
   "execution_count": 1,
   "id": "d0fe36a8",
   "metadata": {},
   "outputs": [
    {
     "name": "stdout",
     "output_type": "stream",
     "text": [
      "국어=90\n",
      "영어=85\n",
      "수학=72\n",
      "평균은 82.3 이며, 등급은 B입니다.\n"
     ]
    }
   ],
   "source": [
    "kor=float(input(\"국어=\"))\n",
    "eng=float(input(\"영어=\"))\n",
    "math=float(input(\"수학=\"))\n",
    "\n",
    "avg=(kor+eng+math)/3.0\n",
    "\n",
    "if 90.0<=avg<=100:\n",
    "    grade=\"A\"\n",
    "elif 80.0<=avg<90:\n",
    "    grade=\"B\"\n",
    "elif 70.0<=avg<80:\n",
    "    grade=\"C\"\n",
    "elif 60.0<=avg<70:\n",
    "    grade=\"D\"\n",
    "elif 50.0<=avg<60:\n",
    "    grade=\"F\"\n",
    "elif 0.0<=avg<60:\n",
    "    grade=\"F\"\n",
    "else:\n",
    "    grade=\"NA\"\n",
    "\n",
    "print(\"평균은 {0:.1f} 이며, 등급은 {1:s}입니다.\".format(avg,grade))"
   ]
  },
  {
   "cell_type": "code",
   "execution_count": 5,
   "id": "03ec1901",
   "metadata": {},
   "outputs": [
    {
     "name": "stdout",
     "output_type": "stream",
     "text": [
      "Lines=11\n",
      "10000000001\n",
      "01000000010\n",
      "00100000100\n",
      "00010001000\n",
      "00001010000\n",
      "00000100000\n",
      "00001010000\n",
      "00010001000\n",
      "00100000100\n",
      "01000000010\n",
      "10000000001\n"
     ]
    }
   ],
   "source": [
    " num=int(input(\"Lines=\"))\n",
    "    \n",
    "for i in range(0,num):\n",
    "    str=\"\"\n",
    "    for j in range(0,num):\n",
    "        if (j==i) or((num-1)-i==j):\n",
    "            str+=\"1\"\n",
    "        else:\n",
    "            str+=\"0\"\n",
    "    print(str)"
   ]
  },
  {
   "cell_type": "code",
   "execution_count": 3,
   "id": "28b9c4c9",
   "metadata": {},
   "outputs": [
    {
     "name": "stdout",
     "output_type": "stream",
     "text": [
      "사람 수?2\n",
      "name=a\n",
      "number=1\n",
      "name=b\n",
      "number=2\n",
      "검색할 이름?b\n",
      "b's phone number is 2\n"
     ]
    }
   ],
   "source": [
    "def search_phone(book,name):\n",
    "    num=book[name]\n",
    "    if num:\n",
    "        return num\n",
    "    else:\n",
    "        return \"none\"\n",
    "    \n",
    "n=int(input(\"사람 수?\"))\n",
    "\n",
    "book=dict()\n",
    "\n",
    "for i in range(n):\n",
    "    k=input(\"name=\");\n",
    "    v=input(\"number=\")\n",
    "    book[k]=v\n",
    "    \n",
    "k=input(\"검색할 이름?\")\n",
    "v=search_phone(book,k)\n",
    "print(\"{0:s}'s phone number is {1:s}\".format(k,v))"
   ]
  },
  {
   "cell_type": "code",
   "execution_count": 1,
   "id": "496a894e",
   "metadata": {},
   "outputs": [
    {
     "name": "stdout",
     "output_type": "stream",
     "text": [
      "죽는 날까지 하늘을 우러러 \n",
      "한 점 부끄럼이 없기를,\n",
      "잎새에 이는 바람에ㅔ도\n",
      "너는 괴로워했다.\n",
      "별을 노래하는 마음으로\n",
      "모든 죽어가는 것을 사랑해야지\n",
      "그리고 너에게 주어진 길을\n",
      "걸어가야겠다.\n",
      "오늘 밤에도 별이 바람에 스치운다.\n"
     ]
    }
   ],
   "source": [
    "str=\"\"\"  죽는 날까지 하늘을 우러러 \n",
    "한 점 부끄럼이 없기를,\n",
    "잎새에 이는 바람에ㅔ도\n",
    "나는 괴로워했다.\n",
    "별을 노래하는 마음으로\n",
    "모든 죽어가는 것을 사랑해야지\n",
    "그리고 나에게 주어진 길을\n",
    "걸어가야겠다.\n",
    "오늘 밤에도 별이 바람에 스치운다.  \"\"\"\n",
    "str=str.strip()\n",
    "str=str.replace(\"나\",\"너\")\n",
    "print(str)"
   ]
  },
  {
   "cell_type": "code",
   "execution_count": 2,
   "id": "23042fb2",
   "metadata": {},
   "outputs": [
    {
     "name": "stdout",
     "output_type": "stream",
     "text": [
      "Numbers=?10 456 87 78\n",
      "Max= 456\n"
     ]
    }
   ],
   "source": [
    "str=input(\"Numbers=?\")\n",
    "strlist=str.split()\n",
    "max=int(strlist[0])\n",
    "for str1 in strlist[1:]:\n",
    "    num=int(str1)\n",
    "    if(num>max):\n",
    "        max=num\n",
    "print(\"Max=\",max)"
   ]
  },
  {
   "cell_type": "code",
   "execution_count": 6,
   "id": "05d42eb6",
   "metadata": {},
   "outputs": [
    {
     "name": "stdout",
     "output_type": "stream",
     "text": [
      "\"abc def\" is encoded into \"efg!bcd\"\n",
      "\"efg!bcd\" is encoded into \"abc def\"\n"
     ]
    }
   ],
   "source": [
    "def conv_asc(str,num):\n",
    "    new_str=\"\"\n",
    "    for i in str:\n",
    "        code=ord(i)\n",
    "        new_str+=chr(code+num)\n",
    "    return new_str\n",
    "\n",
    "def enc(str,key):\n",
    "    list=str.split()\n",
    "    list=list[::-1]\n",
    "    new_str=\" \".join(list)\n",
    "    return conv_asc(new_str,key)\n",
    "\n",
    "def dec(str,key):\n",
    "    str=conv_asc(str,key*-1)\n",
    "    list=str.split()\n",
    "    list=list[::-1]\n",
    "    new_str=\" \".join(list)\n",
    "    return new_str\n",
    "\n",
    "str=\"abc def\"\n",
    "enc_str=enc(str,1)\n",
    "print(\"\\\"\"+str+\"\\\" is encoded into \\\"\"+enc_str+\"\\\"\")\n",
    "\n",
    "dec_str=dec(enc_str,1)\n",
    "print(\"\\\"\"+enc_str+\"\\\" is decoded into \\\"\"+dec_str+\"\\\"\")\n"
   ]
  },
  {
   "cell_type": "code",
   "execution_count": null,
   "id": "70216444",
   "metadata": {},
   "outputs": [],
   "source": []
  }
 ],
 "metadata": {
  "kernelspec": {
   "display_name": "Python 3 (ipykernel)",
   "language": "python",
   "name": "python3"
  },
  "language_info": {
   "codemirror_mode": {
    "name": "ipython",
    "version": 3
   },
   "file_extension": ".py",
   "mimetype": "text/x-python",
   "name": "python",
   "nbconvert_exporter": "python",
   "pygments_lexer": "ipython3",
   "version": "3.10.4"
  }
 },
 "nbformat": 4,
 "nbformat_minor": 5
}
