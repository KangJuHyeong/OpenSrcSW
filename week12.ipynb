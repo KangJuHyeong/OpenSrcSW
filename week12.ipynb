{
 "cells": [
  {
   "cell_type": "code",
   "execution_count": 47,
   "id": "84d3490b",
   "metadata": {},
   "outputs": [
    {
     "name": "stdout",
     "output_type": "stream",
     "text": [
      "일교차가 가장 큰 날\n",
      "2021-04-21\n",
      "최고기온이 가장 낮은 날\n",
      "2021-01-08\n",
      "최고기온이 가장 높은 날\n",
      "2021-07-24\n"
     ]
    }
   ],
   "source": [
    "import csv\n",
    "f=open('temper.csv',encoding='cp949')\n",
    "data=csv.reader(f)\n",
    "\n",
    "header=next(data)\n",
    "\n",
    "a_date=''\n",
    "a_temp=-999\n",
    "max_date=''\n",
    "max_temp=-999\n",
    "min_date=''\n",
    "min_temp=999\n",
    "\n",
    "for row in data:\n",
    "    if float(row[3]) <min_temp:\n",
    "        min_temp=float(row[3])\n",
    "        min_date=row[0]\n",
    "    if float(row[4]) >max_temp:\n",
    "        max_temp=float(row[4])\n",
    "        max_date=row[0]\n",
    "    if float(row[4])-float(row[3])>a_temp:\n",
    "        a_temp=float(row[4])-float(row[3])\n",
    "        a_date=row[0]\n",
    "\n",
    "print('일교차가 가장 큰 날')\n",
    "print(a_date)\n",
    "print('최고기온이 가장 낮은 날')\n",
    "print(min_date)\n",
    "print('최고기온이 가장 높은 날')\n",
    "print(max_date)\n",
    "\n",
    "f.close()\n",
    "        "
   ]
  },
  {
   "cell_type": "code",
   "execution_count": 46,
   "id": "299a9c5e",
   "metadata": {},
   "outputs": [
    {
     "name": "stdout",
     "output_type": "stream",
     "text": [
      "이용객이 가장 많은 역 순위\n",
      "1.2호선 강남(4364436.000000)\n",
      "2.2호선 삼성(무역센터)2호선 잠실(송파구청)(3927922.000000)\n",
      "3.2호선 신림(3412199.000000)\n",
      "이용객이 가장 적은 역 순위\n",
      "1.경의선 검암(2.000000)\n",
      "2.경원선 창동(8.000000)\n",
      "3.6호선 신내(8.000000)\n"
     ]
    }
   ],
   "source": [
    "import csv\n",
    "f=open('trail.csv')\n",
    "data=csv.reader(f)\n",
    "next(data)\n",
    "\n",
    "max_name1=''\n",
    "max_num1=-999\n",
    "max_name2=''\n",
    "max_num2=-999\n",
    "max_name3=''\n",
    "max_num3=-999\n",
    "\n",
    "min_name1=''\n",
    "min_num1=999\n",
    "min_name2=''\n",
    "min_num2=999\n",
    "min_name3=''\n",
    "min_num3=999\n",
    "\n",
    "for row in data:\n",
    "    a=row[4].replace(\",\",\"\")\n",
    "    b=row[5].replace(\",\",\"\")\n",
    "    abc=float(a)+float(b)\n",
    "    if abc>max_num1:\n",
    "        max_num2=max_num1\n",
    "        max_name2+=max_name1\n",
    "        max_num1=abc\n",
    "        max_name1=row[1]+\" \"+row[3]\n",
    "    elif abc>max_num2:\n",
    "        max_num3=max_num2\n",
    "        max_name3=max_name2\n",
    "        max_num2=abc\n",
    "        max_name2=row[1]+\" \"+row[3]\n",
    "    elif abc>max_num3:\n",
    "        max_num3=abc\n",
    "        max_name3=row[1]+\" \"+row[3]\n",
    "    if abc<min_num1:\n",
    "        min_num2=min_num1\n",
    "        min_name2=min_name1\n",
    "        min_num1=abc\n",
    "        min_name1=row[1]+\" \"+row[3]\n",
    "    elif abc<min_num2:\n",
    "        min_num3=min_num2\n",
    "        min_name3=min_name2\n",
    "        min_num2=abc\n",
    "        min_name2=row[1]+\" \"+row[3]\n",
    "    elif abc<min_num3:\n",
    "        min_num3=abc\n",
    "        min_name3=row[1]+\" \"+row[3]\n",
    "\n",
    "print('이용객이 가장 많은 역 순위')\n",
    "print('1.'+max_name1+'({0:f})'.format(max_num1))\n",
    "print('2.'+max_name2+'({0:f})'.format(max_num2))\n",
    "print('3.'+max_name3+'({0:f})'.format(max_num3))\n",
    "\n",
    "\n",
    "print('이용객이 가장 적은 역 순위')\n",
    "print('1.'+min_name1+'({0:f})'.format(min_num1))\n",
    "print('2.'+min_name2+'({0:f})'.format(min_num2))\n",
    "print('3.'+min_name3+'({0:f})'.format(min_num3))\n",
    "\n",
    "f.close()\n"
   ]
  },
  {
   "cell_type": "code",
   "execution_count": null,
   "id": "772175cb",
   "metadata": {},
   "outputs": [],
   "source": []
  },
  {
   "cell_type": "code",
   "execution_count": null,
   "id": "715f1833",
   "metadata": {},
   "outputs": [],
   "source": []
  }
 ],
 "metadata": {
  "kernelspec": {
   "display_name": "Python 3 (ipykernel)",
   "language": "python",
   "name": "python3"
  },
  "language_info": {
   "codemirror_mode": {
    "name": "ipython",
    "version": 3
   },
   "file_extension": ".py",
   "mimetype": "text/x-python",
   "name": "python",
   "nbconvert_exporter": "python",
   "pygments_lexer": "ipython3",
   "version": "3.10.4"
  }
 },
 "nbformat": 4,
 "nbformat_minor": 5
}
